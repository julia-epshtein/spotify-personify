{
 "cells": [
  {
   "cell_type": "markdown",
   "metadata": {},
   "source": [
    "Part 1: Importing Necessary Libraries"
   ]
  },
  {
   "cell_type": "code",
   "execution_count": 1,
   "metadata": {},
   "outputs": [],
   "source": [
    "import pandas as pd\n",
    "import numpy as np\n",
    "import random as rnd\n",
    "\n",
    "# Data visualization libraries\n",
    "import matplotlib.pyplot as plt\n",
    "import seaborn as sns\n",
    "\n",
    "# Machine learning libraries\n",
    "from sklearn.model_selection import train_test_split\n",
    "from sklearn import metrics\n",
    "from sklearn.preprocessing import LabelEncoder, StandardScaler, MinMaxScaler, RobustScaler, OneHotEncoder\n",
    "from sklearn.svm import SVC\n",
    "from sklearn.ensemble import RandomForestClassifier\n",
    "from sklearn.model_selection import GridSearchCV\n",
    "from sklearn.neighbors import KNeighborsClassifier\n",
    "\n",
    "# Deep learning libraries\n",
    "import tensorflow as tf\n",
    "from keras.models import Sequential\n",
    "from keras.layers import Dense, Dropout\n",
    "from scikeras.wrappers import KerasClassifier\n",
    "\n",
    "# Spotipy\n",
    "import spotipy\n",
    "from spotipy.oauth2 import SpotifyClientCredentials\n",
    "import spotipy.util as util\n",
    "from spotipy.oauth2 import SpotifyOAuth\n",
    "import webbrowser\n",
    "from json.decoder import JSONDecodeError"
   ]
  },
  {
   "cell_type": "markdown",
   "metadata": {},
   "source": [
    "Part 2: User Authentication\n",
    "Reference: https://neokt.github.io/projects/audio-music-mood-classification/"
   ]
  },
  {
   "cell_type": "code",
   "execution_count": 2,
   "metadata": {},
   "outputs": [
    {
     "name": "stdout",
     "output_type": "stream",
     "text": [
      "0 King Harvest - Dancing in the Moonlight\n",
      "1 Ashnikko - Daisy\n",
      "2 Ashnikko - Slumber Party (feat. Princess Nokia)\n",
      "3 Cuco - Si Me Voy (with The Marías)\n",
      "4 Hozier - Work Song\n",
      "5 Jordana - Better in the Dark\n",
      "6 MUNA - Silk Chiffon\n",
      "7 WILLIS - I Think I Like When It Rains\n",
      "8 Ethel Cain - Crush\n",
      "9 Taylor Swift - seven\n",
      "10 Lizzy McAlpine - doomsday\n",
      "11 Bon Iver - For Emma\n",
      "12 Emotional Oranges - West Coast Love\n",
      "13 Mitski - Drunk Walk Home\n",
      "14 Kendrick Lamar - XXX. FEAT. U2.\n",
      "15 Mac Miller - Self Care\n",
      "16 Faye Webster - I Know You\n",
      "17 PARTYNEXTDOOR - Belong to the City\n",
      "18 Travis Scott - I KNOW ?\n",
      "19 Nas - Nas Is Like\n"
     ]
    }
   ],
   "source": [
    "# Create App With User Authentication\n",
    "\n",
    "sp = spotipy.Spotify(auth_manager=SpotifyOAuth(client_id=\"d62cb14d245c47668fd50431a942c046\",\n",
    "client_secret=\"fc28483fa9a74b22a90d076120fa3df8\",\n",
    "redirect_uri=\"http://localhost:5000/callback\",\n",
    "scope=\"user-library-read\"))\n",
    "\n",
    "\n",
    "results = sp.current_user_saved_tracks()\n",
    "for idx, item in enumerate(results['items']):\n",
    "    track = item['track']\n",
    "    print(idx, track['artists'][0]['name'], \"-\", track['name'])"
   ]
  },
  {
   "cell_type": "markdown",
   "metadata": {},
   "source": [
    "Part 3: Understanding Spotipy and Querying\n",
    "References: \n",
    "https://neokt.github.io/projects/audio-music-mood-classification/\n",
    "https://spotipy.readthedocs.io/en/2.22.1/#api-reference"
   ]
  },
  {
   "cell_type": "code",
   "execution_count": 3,
   "metadata": {},
   "outputs": [
    {
     "name": "stdout",
     "output_type": "stream",
     "text": [
      "0 Top Lists\n",
      "1 Hip-Hop\n",
      "2 Pop\n",
      "3 Country\n",
      "4 Latin\n",
      "5 Rock\n",
      "6 Summer\n",
      "7 Workout\n",
      "8 R&B\n",
      "9 Dance/Electronic\n",
      "10 Netflix\n",
      "11 Indie\n",
      "12 Mood\n",
      "13 Sleep\n",
      "14 Christian & Gospel\n",
      "15 Regional Mexican\n",
      "16 Wellness\n",
      "17 Chill\n",
      "18 EQUAL\n",
      "19 Gaming\n",
      "20 Frequency\n",
      "21 Kids & Family\n",
      "22 Party\n",
      "23 Decades\n",
      "24 Fresh Finds\n",
      "25 Jazz\n",
      "26 Focus\n",
      "27 Romance\n",
      "28 Folk & Acoustic\n",
      "29 K-Pop\n",
      "30 Instrumental\n",
      "31 Ambient\n",
      "32 Alternative\n",
      "33 In the car\n",
      "34 Classical\n",
      "35 Soul\n",
      "36 Spotify Singles\n",
      "37 Cooking & Dining\n",
      "38 Punk\n",
      "39 Pop culture\n",
      "40 Blues\n",
      "41 Desi\n",
      "42 Arab\n",
      "43 RADAR\n",
      "44 Student\n",
      "45 Anime\n",
      "46 Tastemakers\n",
      "47 Afro\n",
      "48 Comedy\n",
      "49 Metal\n"
     ]
    }
   ],
   "source": [
    "# get categories\n",
    "categories = sp.categories(limit=50)\n",
    "for i, cat in enumerate(categories['categories']['items']):\n",
    "    print(i, cat['name'])"
   ]
  },
  {
   "cell_type": "code",
   "execution_count": 4,
   "metadata": {},
   "outputs": [
    {
     "name": "stdout",
     "output_type": "stream",
     "text": [
      "0 Today’s Top Hits\n",
      "1 RapCaviar\n",
      "2 Rock This\n",
      "3 mint\n",
      "4 Hot Country\n",
      "5 Viva Latino\n",
      "6 RNB X\n",
      "7 Top 50 - USA\n",
      "8 Top 50 - Global\n",
      "9 Viral 50 - Global\n",
      "10 Viral 50 - USA\n",
      "11 New Music Friday\n"
     ]
    }
   ],
   "source": [
    "# get playlists from list of categories\n",
    "cat = categories['categories']['items'][0]\n",
    "playlists = sp.category_playlists(cat['id'], limit=50)\n",
    "for i, playlist in enumerate(playlists['playlists']['items']):\n",
    "    print(i, playlist['name'])"
   ]
  },
  {
   "cell_type": "code",
   "execution_count": 5,
   "metadata": {},
   "outputs": [
    {
     "data": {
      "text/plain": [
       "['0mflMxspEfB0VbI1kyLiAv',\n",
       " '4iZ4pt7kvcaH6Yo8UoZ4s2',\n",
       " '4xhsWYTOGcal8zt0J161CU',\n",
       " '3rUGC1vUpkDG9CZFHMur1t',\n",
       " '2IGMVunIBsBLtEQyoI1Mu7']"
      ]
     },
     "execution_count": 5,
     "metadata": {},
     "output_type": "execute_result"
    }
   ],
   "source": [
    "# get song ids from list of playlist ids\n",
    "song_ids = []\n",
    "for i, playlist in enumerate(playlists['playlists']['items']):\n",
    "    playlist = sp.playlist(playlist['id'])\n",
    "    for j, item in enumerate(playlist['tracks']['items']):\n",
    "        song = item['track']\n",
    "        song_ids.append(song['id'])\n",
    "        \n",
    "song_ids[:5]"
   ]
  },
  {
   "cell_type": "code",
   "execution_count": 6,
   "metadata": {},
   "outputs": [
    {
     "data": {
      "text/html": [
       "<div>\n",
       "<style scoped>\n",
       "    .dataframe tbody tr th:only-of-type {\n",
       "        vertical-align: middle;\n",
       "    }\n",
       "\n",
       "    .dataframe tbody tr th {\n",
       "        vertical-align: top;\n",
       "    }\n",
       "\n",
       "    .dataframe thead th {\n",
       "        text-align: right;\n",
       "    }\n",
       "</style>\n",
       "<table border=\"1\" class=\"dataframe\">\n",
       "  <thead>\n",
       "    <tr style=\"text-align: right;\">\n",
       "      <th></th>\n",
       "      <th>danceability</th>\n",
       "      <th>energy</th>\n",
       "      <th>key</th>\n",
       "      <th>loudness</th>\n",
       "      <th>mode</th>\n",
       "      <th>speechiness</th>\n",
       "      <th>acousticness</th>\n",
       "      <th>instrumentalness</th>\n",
       "      <th>liveness</th>\n",
       "      <th>valence</th>\n",
       "      <th>tempo</th>\n",
       "      <th>type</th>\n",
       "      <th>id</th>\n",
       "      <th>uri</th>\n",
       "      <th>track_href</th>\n",
       "      <th>analysis_url</th>\n",
       "      <th>duration_ms</th>\n",
       "      <th>time_signature</th>\n",
       "    </tr>\n",
       "  </thead>\n",
       "  <tbody>\n",
       "    <tr>\n",
       "      <th>0</th>\n",
       "      <td>0.662</td>\n",
       "      <td>0.488</td>\n",
       "      <td>9</td>\n",
       "      <td>-6.894</td>\n",
       "      <td>1</td>\n",
       "      <td>0.0682</td>\n",
       "      <td>0.7820</td>\n",
       "      <td>0.000000</td>\n",
       "      <td>0.1020</td>\n",
       "      <td>0.817</td>\n",
       "      <td>117.913</td>\n",
       "      <td>audio_features</td>\n",
       "      <td>0mflMxspEfB0VbI1kyLiAv</td>\n",
       "      <td>spotify:track:0mflMxspEfB0VbI1kyLiAv</td>\n",
       "      <td>https://api.spotify.com/v1/tracks/0mflMxspEfB0...</td>\n",
       "      <td>https://api.spotify.com/v1/audio-analysis/0mfl...</td>\n",
       "      <td>182347</td>\n",
       "      <td>4</td>\n",
       "    </tr>\n",
       "    <tr>\n",
       "      <th>1</th>\n",
       "      <td>0.559</td>\n",
       "      <td>0.551</td>\n",
       "      <td>5</td>\n",
       "      <td>-7.231</td>\n",
       "      <td>1</td>\n",
       "      <td>0.1320</td>\n",
       "      <td>0.1410</td>\n",
       "      <td>0.000000</td>\n",
       "      <td>0.1100</td>\n",
       "      <td>0.392</td>\n",
       "      <td>143.008</td>\n",
       "      <td>audio_features</td>\n",
       "      <td>4iZ4pt7kvcaH6Yo8UoZ4s2</td>\n",
       "      <td>spotify:track:4iZ4pt7kvcaH6Yo8UoZ4s2</td>\n",
       "      <td>https://api.spotify.com/v1/tracks/4iZ4pt7kvcaH...</td>\n",
       "      <td>https://api.spotify.com/v1/audio-analysis/4iZ4...</td>\n",
       "      <td>201800</td>\n",
       "      <td>4</td>\n",
       "    </tr>\n",
       "    <tr>\n",
       "      <th>2</th>\n",
       "      <td>0.943</td>\n",
       "      <td>0.558</td>\n",
       "      <td>2</td>\n",
       "      <td>-4.911</td>\n",
       "      <td>1</td>\n",
       "      <td>0.0568</td>\n",
       "      <td>0.0026</td>\n",
       "      <td>0.000002</td>\n",
       "      <td>0.0937</td>\n",
       "      <td>0.606</td>\n",
       "      <td>104.983</td>\n",
       "      <td>audio_features</td>\n",
       "      <td>4xhsWYTOGcal8zt0J161CU</td>\n",
       "      <td>spotify:track:4xhsWYTOGcal8zt0J161CU</td>\n",
       "      <td>https://api.spotify.com/v1/tracks/4xhsWYTOGcal...</td>\n",
       "      <td>https://api.spotify.com/v1/audio-analysis/4xhs...</td>\n",
       "      <td>138411</td>\n",
       "      <td>4</td>\n",
       "    </tr>\n",
       "    <tr>\n",
       "      <th>3</th>\n",
       "      <td>0.750</td>\n",
       "      <td>0.733</td>\n",
       "      <td>6</td>\n",
       "      <td>-3.180</td>\n",
       "      <td>0</td>\n",
       "      <td>0.0319</td>\n",
       "      <td>0.2560</td>\n",
       "      <td>0.000000</td>\n",
       "      <td>0.1140</td>\n",
       "      <td>0.844</td>\n",
       "      <td>111.018</td>\n",
       "      <td>audio_features</td>\n",
       "      <td>3rUGC1vUpkDG9CZFHMur1t</td>\n",
       "      <td>spotify:track:3rUGC1vUpkDG9CZFHMur1t</td>\n",
       "      <td>https://api.spotify.com/v1/tracks/3rUGC1vUpkDG...</td>\n",
       "      <td>https://api.spotify.com/v1/audio-analysis/3rUG...</td>\n",
       "      <td>131872</td>\n",
       "      <td>1</td>\n",
       "    </tr>\n",
       "    <tr>\n",
       "      <th>4</th>\n",
       "      <td>0.868</td>\n",
       "      <td>0.538</td>\n",
       "      <td>5</td>\n",
       "      <td>-8.603</td>\n",
       "      <td>1</td>\n",
       "      <td>0.1740</td>\n",
       "      <td>0.2690</td>\n",
       "      <td>0.000003</td>\n",
       "      <td>0.0901</td>\n",
       "      <td>0.732</td>\n",
       "      <td>99.968</td>\n",
       "      <td>audio_features</td>\n",
       "      <td>2IGMVunIBsBLtEQyoI1Mu7</td>\n",
       "      <td>spotify:track:2IGMVunIBsBLtEQyoI1Mu7</td>\n",
       "      <td>https://api.spotify.com/v1/tracks/2IGMVunIBsBL...</td>\n",
       "      <td>https://api.spotify.com/v1/audio-analysis/2IGM...</td>\n",
       "      <td>231750</td>\n",
       "      <td>4</td>\n",
       "    </tr>\n",
       "  </tbody>\n",
       "</table>\n",
       "</div>"
      ],
      "text/plain": [
       "   danceability  energy  key  loudness  mode  speechiness  acousticness  \\\n",
       "0         0.662   0.488    9    -6.894     1       0.0682        0.7820   \n",
       "1         0.559   0.551    5    -7.231     1       0.1320        0.1410   \n",
       "2         0.943   0.558    2    -4.911     1       0.0568        0.0026   \n",
       "3         0.750   0.733    6    -3.180     0       0.0319        0.2560   \n",
       "4         0.868   0.538    5    -8.603     1       0.1740        0.2690   \n",
       "\n",
       "   instrumentalness  liveness  valence    tempo            type  \\\n",
       "0          0.000000    0.1020    0.817  117.913  audio_features   \n",
       "1          0.000000    0.1100    0.392  143.008  audio_features   \n",
       "2          0.000002    0.0937    0.606  104.983  audio_features   \n",
       "3          0.000000    0.1140    0.844  111.018  audio_features   \n",
       "4          0.000003    0.0901    0.732   99.968  audio_features   \n",
       "\n",
       "                       id                                   uri  \\\n",
       "0  0mflMxspEfB0VbI1kyLiAv  spotify:track:0mflMxspEfB0VbI1kyLiAv   \n",
       "1  4iZ4pt7kvcaH6Yo8UoZ4s2  spotify:track:4iZ4pt7kvcaH6Yo8UoZ4s2   \n",
       "2  4xhsWYTOGcal8zt0J161CU  spotify:track:4xhsWYTOGcal8zt0J161CU   \n",
       "3  3rUGC1vUpkDG9CZFHMur1t  spotify:track:3rUGC1vUpkDG9CZFHMur1t   \n",
       "4  2IGMVunIBsBLtEQyoI1Mu7  spotify:track:2IGMVunIBsBLtEQyoI1Mu7   \n",
       "\n",
       "                                          track_href  \\\n",
       "0  https://api.spotify.com/v1/tracks/0mflMxspEfB0...   \n",
       "1  https://api.spotify.com/v1/tracks/4iZ4pt7kvcaH...   \n",
       "2  https://api.spotify.com/v1/tracks/4xhsWYTOGcal...   \n",
       "3  https://api.spotify.com/v1/tracks/3rUGC1vUpkDG...   \n",
       "4  https://api.spotify.com/v1/tracks/2IGMVunIBsBL...   \n",
       "\n",
       "                                        analysis_url  duration_ms  \\\n",
       "0  https://api.spotify.com/v1/audio-analysis/0mfl...       182347   \n",
       "1  https://api.spotify.com/v1/audio-analysis/4iZ4...       201800   \n",
       "2  https://api.spotify.com/v1/audio-analysis/4xhs...       138411   \n",
       "3  https://api.spotify.com/v1/audio-analysis/3rUG...       131872   \n",
       "4  https://api.spotify.com/v1/audio-analysis/2IGM...       231750   \n",
       "\n",
       "   time_signature  \n",
       "0               4  \n",
       "1               4  \n",
       "2               4  \n",
       "3               1  \n",
       "4               4  "
      ]
     },
     "execution_count": 6,
     "metadata": {},
     "output_type": "execute_result"
    }
   ],
   "source": [
    "# Use song ids to query audio features\n",
    "features = []\n",
    "for i in range(0,len(song_ids),50):\n",
    "    audio_features = sp.audio_features(song_ids[i:i+50])\n",
    "    for track in audio_features:\n",
    "        features.append(track)\n",
    "\n",
    "# Turn the features into a dataframe\n",
    "features_df = pd.DataFrame(features)\n",
    "\n",
    "features_df.head()"
   ]
  },
  {
   "cell_type": "markdown",
   "metadata": {},
   "source": [
    "Part 4: Creating moods and retrieving mood playlists\n",
    "Moods obtained from: https://github.com/neokt/audio-music-mood-classification/blob/master/05-production.ipynb"
   ]
  },
  {
   "cell_type": "code",
   "execution_count": 7,
   "metadata": {},
   "outputs": [],
   "source": [
    "# create a list of moods to classify playlists\n",
    "moods = ['Peaceful', 'Easygoing', 'Tender', 'Romantic', 'Upbeat', 'Empowering', 'Lively', 'Excited', 'Stirring', 'Rowdy', 'Sentimental', 'Sophisticated','Sensual', 'Fiery', 'Energizing','Melancholy', 'Cool', 'Somber', 'Gritty','Yearning', 'Serious','Urgent', 'Defiant', 'Brooding', 'Aggressive']"
   ]
  },
  {
   "cell_type": "code",
   "execution_count": 8,
   "metadata": {},
   "outputs": [],
   "source": [
    "# get Spotify playlists for each mood. Limit is 50 playlists per mood. For each mood, store the playlist name, id, and mood in a list of dictionaries\n",
    "playlists = []\n",
    "for mood in moods:\n",
    "    mood_playlists = sp.search(q=mood, type='playlist', limit=5)\n",
    "    for playlist in mood_playlists['playlists']['items']:\n",
    "        playlists.append({'name': playlist['name'], 'id': playlist['id'], 'mood': mood})\n",
    "\n",
    "# create a dataframe from the list of dictionaries\n",
    "playlists_df = pd.DataFrame(playlists)"
   ]
  },
  {
   "cell_type": "code",
   "execution_count": 9,
   "metadata": {},
   "outputs": [
    {
     "data": {
      "text/plain": [
       "['5hFkGfx038V0LhqI0Uff2J',\n",
       " '3RI7rnK1YgmyRcXq9pkMqQ',\n",
       " '6fjZ39b5dT9uZzFsVRLwSi',\n",
       " '1b1A6Z7pI8myEX3TSyweOk',\n",
       " '3xZBHTUT1gLAmDbPz77ETo']"
      ]
     },
     "execution_count": 9,
     "metadata": {},
     "output_type": "execute_result"
    }
   ],
   "source": [
    "# get song ids for all the playlists for future querying\n",
    "song_ids = []\n",
    "for i, playlist in enumerate(playlists_df['id']):\n",
    "    playlist = sp.playlist(playlist)\n",
    "    for j, item in enumerate(playlist['tracks']['items']):\n",
    "        song = item['track']\n",
    "        song_ids.append(song['id'])\n",
    "        \n",
    "song_ids[:5]"
   ]
  },
  {
   "cell_type": "code",
   "execution_count": 10,
   "metadata": {},
   "outputs": [],
   "source": [
    "# create a dataframe from the list of dictionaries\n",
    "playlists_df = pd.DataFrame(playlists)"
   ]
  },
  {
   "cell_type": "code",
   "execution_count": 11,
   "metadata": {},
   "outputs": [
    {
     "ename": "TypeError",
     "evalue": "expected string or bytes-like object, got 'NoneType'",
     "output_type": "error",
     "traceback": [
      "\u001b[0;31m---------------------------------------------------------------------------\u001b[0m",
      "\u001b[0;31mTypeError\u001b[0m                                 Traceback (most recent call last)",
      "Cell \u001b[0;32mIn[11], line 4\u001b[0m\n\u001b[1;32m      2\u001b[0m features \u001b[39m=\u001b[39m []\n\u001b[1;32m      3\u001b[0m \u001b[39mfor\u001b[39;00m i \u001b[39min\u001b[39;00m \u001b[39mrange\u001b[39m(\u001b[39m0\u001b[39m,\u001b[39mlen\u001b[39m(song_ids),\u001b[39m50\u001b[39m):\n\u001b[0;32m----> 4\u001b[0m     audio_features \u001b[39m=\u001b[39m sp\u001b[39m.\u001b[39;49maudio_features(song_ids[i:i\u001b[39m+\u001b[39;49m\u001b[39m50\u001b[39;49m])\n\u001b[1;32m      5\u001b[0m     \u001b[39mfor\u001b[39;00m track \u001b[39min\u001b[39;00m audio_features:\n\u001b[1;32m      6\u001b[0m         features\u001b[39m.\u001b[39mappend(track)\n",
      "File \u001b[0;32m~/miniconda3/envs/spotify_env/lib/python3.11/site-packages/spotipy/client.py:1736\u001b[0m, in \u001b[0;36mSpotify.audio_features\u001b[0;34m(self, tracks)\u001b[0m\n\u001b[1;32m   1734\u001b[0m     results \u001b[39m=\u001b[39m \u001b[39mself\u001b[39m\u001b[39m.\u001b[39m_get(\u001b[39m\"\u001b[39m\u001b[39maudio-features/?ids=\u001b[39m\u001b[39m\"\u001b[39m \u001b[39m+\u001b[39m trackid)\n\u001b[1;32m   1735\u001b[0m \u001b[39melse\u001b[39;00m:\n\u001b[0;32m-> 1736\u001b[0m     tlist \u001b[39m=\u001b[39m [\u001b[39mself\u001b[39;49m\u001b[39m.\u001b[39;49m_get_id(\u001b[39m\"\u001b[39;49m\u001b[39mtrack\u001b[39;49m\u001b[39m\"\u001b[39;49m, t) \u001b[39mfor\u001b[39;49;00m t \u001b[39min\u001b[39;49;00m tracks]\n\u001b[1;32m   1737\u001b[0m     results \u001b[39m=\u001b[39m \u001b[39mself\u001b[39m\u001b[39m.\u001b[39m_get(\u001b[39m\"\u001b[39m\u001b[39maudio-features/?ids=\u001b[39m\u001b[39m\"\u001b[39m \u001b[39m+\u001b[39m \u001b[39m\"\u001b[39m\u001b[39m,\u001b[39m\u001b[39m\"\u001b[39m\u001b[39m.\u001b[39mjoin(tlist))\n\u001b[1;32m   1738\u001b[0m \u001b[39m# the response has changed, look for the new style first, and if\u001b[39;00m\n\u001b[1;32m   1739\u001b[0m \u001b[39m# its not there, fallback on the old style\u001b[39;00m\n",
      "File \u001b[0;32m~/miniconda3/envs/spotify_env/lib/python3.11/site-packages/spotipy/client.py:1736\u001b[0m, in \u001b[0;36m<listcomp>\u001b[0;34m(.0)\u001b[0m\n\u001b[1;32m   1734\u001b[0m     results \u001b[39m=\u001b[39m \u001b[39mself\u001b[39m\u001b[39m.\u001b[39m_get(\u001b[39m\"\u001b[39m\u001b[39maudio-features/?ids=\u001b[39m\u001b[39m\"\u001b[39m \u001b[39m+\u001b[39m trackid)\n\u001b[1;32m   1735\u001b[0m \u001b[39melse\u001b[39;00m:\n\u001b[0;32m-> 1736\u001b[0m     tlist \u001b[39m=\u001b[39m [\u001b[39mself\u001b[39;49m\u001b[39m.\u001b[39;49m_get_id(\u001b[39m\"\u001b[39;49m\u001b[39mtrack\u001b[39;49m\u001b[39m\"\u001b[39;49m, t) \u001b[39mfor\u001b[39;00m t \u001b[39min\u001b[39;00m tracks]\n\u001b[1;32m   1737\u001b[0m     results \u001b[39m=\u001b[39m \u001b[39mself\u001b[39m\u001b[39m.\u001b[39m_get(\u001b[39m\"\u001b[39m\u001b[39maudio-features/?ids=\u001b[39m\u001b[39m\"\u001b[39m \u001b[39m+\u001b[39m \u001b[39m\"\u001b[39m\u001b[39m,\u001b[39m\u001b[39m\"\u001b[39m\u001b[39m.\u001b[39mjoin(tlist))\n\u001b[1;32m   1738\u001b[0m \u001b[39m# the response has changed, look for the new style first, and if\u001b[39;00m\n\u001b[1;32m   1739\u001b[0m \u001b[39m# its not there, fallback on the old style\u001b[39;00m\n",
      "File \u001b[0;32m~/miniconda3/envs/spotify_env/lib/python3.11/site-packages/spotipy/client.py:1969\u001b[0m, in \u001b[0;36mSpotify._get_id\u001b[0;34m(self, type, id)\u001b[0m\n\u001b[1;32m   1968\u001b[0m \u001b[39mdef\u001b[39;00m \u001b[39m_get_id\u001b[39m(\u001b[39mself\u001b[39m, \u001b[39mtype\u001b[39m, \u001b[39mid\u001b[39m):\n\u001b[0;32m-> 1969\u001b[0m     uri_match \u001b[39m=\u001b[39m re\u001b[39m.\u001b[39;49msearch(Spotify\u001b[39m.\u001b[39;49m_regex_spotify_uri, \u001b[39mid\u001b[39;49m)\n\u001b[1;32m   1970\u001b[0m     \u001b[39mif\u001b[39;00m uri_match \u001b[39mis\u001b[39;00m \u001b[39mnot\u001b[39;00m \u001b[39mNone\u001b[39;00m:\n\u001b[1;32m   1971\u001b[0m         uri_match_groups \u001b[39m=\u001b[39m uri_match\u001b[39m.\u001b[39mgroupdict()\n",
      "File \u001b[0;32m~/miniconda3/envs/spotify_env/lib/python3.11/re/__init__.py:176\u001b[0m, in \u001b[0;36msearch\u001b[0;34m(pattern, string, flags)\u001b[0m\n\u001b[1;32m    173\u001b[0m \u001b[39mdef\u001b[39;00m \u001b[39msearch\u001b[39m(pattern, string, flags\u001b[39m=\u001b[39m\u001b[39m0\u001b[39m):\n\u001b[1;32m    174\u001b[0m \u001b[39m    \u001b[39m\u001b[39m\"\"\"Scan through string looking for a match to the pattern, returning\u001b[39;00m\n\u001b[1;32m    175\u001b[0m \u001b[39m    a Match object, or None if no match was found.\"\"\"\u001b[39;00m\n\u001b[0;32m--> 176\u001b[0m     \u001b[39mreturn\u001b[39;00m _compile(pattern, flags)\u001b[39m.\u001b[39;49msearch(string)\n",
      "\u001b[0;31mTypeError\u001b[0m: expected string or bytes-like object, got 'NoneType'"
     ]
    }
   ],
   "source": [
    "# use the song_ids to get audio features\n",
    "features = []\n",
    "for i in range(0,len(song_ids),50):\n",
    "    audio_features = sp.audio_features(song_ids[i:i+50])\n",
    "    for track in audio_features:\n",
    "        features.append(track)"
   ]
  },
  {
   "cell_type": "code",
   "execution_count": null,
   "metadata": {},
   "outputs": [],
   "source": [
    "# create a dataframe for the features\n",
    "features_df = pd.DataFrame(features)"
   ]
  },
  {
   "cell_type": "code",
   "execution_count": null,
   "metadata": {},
   "outputs": [],
   "source": [
    "# merge the two dataframes\n",
    "playlists_df = playlists_df.merge(features_df, left_on='id', right_on='id')\n",
    "\n",
    "playlists_df.head()"
   ]
  }
 ],
 "metadata": {
  "kernelspec": {
   "display_name": "Python 3",
   "language": "python",
   "name": "python3"
  },
  "language_info": {
   "codemirror_mode": {
    "name": "ipython",
    "version": 3
   },
   "file_extension": ".py",
   "mimetype": "text/x-python",
   "name": "python",
   "nbconvert_exporter": "python",
   "pygments_lexer": "ipython3",
   "version": "3.11.0"
  },
  "orig_nbformat": 4
 },
 "nbformat": 4,
 "nbformat_minor": 2
}
