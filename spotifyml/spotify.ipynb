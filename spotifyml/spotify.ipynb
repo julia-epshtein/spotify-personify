{
 "cells": [
  {
   "cell_type": "code",
   "execution_count": 20,
   "metadata": {},
   "outputs": [],
   "source": [
    "import pandas as pd\n",
    "import numpy as np\n",
    "import random as rnd\n",
    "\n",
    "# Data visualization libraries\n",
    "import matplotlib.pyplot as plt\n",
    "import seaborn as sns\n",
    "\n",
    "# Machine learning libraries\n",
    "from sklearn.model_selection import train_test_split\n",
    "from sklearn import metrics\n",
    "from sklearn.preprocessing import LabelEncoder, StandardScaler, MinMaxScaler, RobustScaler, OneHotEncoder\n",
    "from sklearn.svm import SVC\n",
    "from sklearn.ensemble import RandomForestClassifier\n",
    "from sklearn.model_selection import GridSearchCV\n",
    "from sklearn.neighbors import KNeighborsClassifier\n",
    "\n",
    "# Deep learning libraries\n",
    "import tensorflow as tf\n",
    "from keras.models import Sequential\n",
    "from keras.layers import Dense, Dropout\n",
    "from scikeras.wrappers import KerasClassifier\n",
    "\n",
    "# Spotipy\n",
    "import spotipy\n",
    "from spotipy.oauth2 import SpotifyClientCredentials\n",
    "import spotipy.util as util\n",
    "from spotipy.oauth2 import SpotifyOAuth\n",
    "import webbrowser\n",
    "from json.decoder import JSONDecodeError"
   ]
  },
  {
   "cell_type": "code",
   "execution_count": 21,
   "metadata": {},
   "outputs": [
    {
     "name": "stdout",
     "output_type": "stream",
     "text": [
      "0 King Harvest - Dancing in the Moonlight\n",
      "1 Ashnikko - Daisy\n",
      "2 Ashnikko - Slumber Party (feat. Princess Nokia)\n",
      "3 Cuco - Si Me Voy (with The Marías)\n",
      "4 Hozier - Work Song\n",
      "5 Jordana - Better in the Dark\n",
      "6 MUNA - Silk Chiffon\n",
      "7 WILLIS - I Think I Like When It Rains\n",
      "8 Ethel Cain - Crush\n",
      "9 Taylor Swift - seven\n",
      "10 Lizzy McAlpine - doomsday\n",
      "11 Bon Iver - For Emma\n",
      "12 Emotional Oranges - West Coast Love\n",
      "13 Mitski - Drunk Walk Home\n",
      "14 Kendrick Lamar - XXX. FEAT. U2.\n",
      "15 Mac Miller - Self Care\n",
      "16 Faye Webster - I Know You\n",
      "17 PARTYNEXTDOOR - Belong to the City\n",
      "18 Travis Scott - I KNOW ?\n",
      "19 Nas - Nas Is Like\n"
     ]
    }
   ],
   "source": [
    "# Create App With User Authentication\n",
    "\n",
    "sp = spotipy.Spotify(auth_manager=SpotifyOAuth(client_id=\"d62cb14d245c47668fd50431a942c046\",\n",
    "client_secret=\"fc28483fa9a74b22a90d076120fa3df8\",\n",
    "redirect_uri=\"http://localhost:5000/callback\",\n",
    "scope=\"user-library-read\"))\n",
    "\n",
    "\n",
    "results = sp.current_user_saved_tracks()\n",
    "for idx, item in enumerate(results['items']):\n",
    "    track = item['track']\n",
    "    print(idx, track['artists'][0]['name'], \"-\", track['name'])"
   ]
  },
  {
   "cell_type": "code",
   "execution_count": 22,
   "metadata": {},
   "outputs": [
    {
     "name": "stdout",
     "output_type": "stream",
     "text": [
      "0 Top Lists\n",
      "1 Hip-Hop\n",
      "2 Pop\n",
      "3 Country\n",
      "4 Latin\n",
      "5 Rock\n",
      "6 Summer\n",
      "7 Workout\n",
      "8 R&B\n",
      "9 Dance/Electronic\n",
      "10 Netflix\n",
      "11 Indie\n",
      "12 Mood\n",
      "13 Sleep\n",
      "14 Christian & Gospel\n",
      "15 Regional Mexican\n",
      "16 Wellness\n",
      "17 Chill\n",
      "18 EQUAL\n",
      "19 Gaming\n",
      "20 Frequency\n",
      "21 Kids & Family\n",
      "22 Party\n",
      "23 Decades\n",
      "24 Fresh Finds\n",
      "25 Jazz\n",
      "26 Focus\n",
      "27 Romance\n",
      "28 Folk & Acoustic\n",
      "29 K-Pop\n",
      "30 Instrumental\n",
      "31 Ambient\n",
      "32 Alternative\n",
      "33 In the car\n",
      "34 Classical\n",
      "35 Soul\n",
      "36 Spotify Singles\n",
      "37 Cooking & Dining\n",
      "38 Punk\n",
      "39 Pop culture\n",
      "40 Blues\n",
      "41 Desi\n",
      "42 Arab\n",
      "43 RADAR\n",
      "44 Student\n",
      "45 Anime\n",
      "46 Tastemakers\n",
      "47 Afro\n",
      "48 Comedy\n",
      "49 Metal\n"
     ]
    }
   ],
   "source": [
    "# get categories\n",
    "categories = sp.categories(limit=50)\n",
    "for i, cat in enumerate(categories['categories']['items']):\n",
    "    print(i, cat['name'])"
   ]
  },
  {
   "cell_type": "code",
   "execution_count": 16,
   "metadata": {},
   "outputs": [
    {
     "name": "stdout",
     "output_type": "stream",
     "text": [
      "0 Today’s Top Hits\n",
      "1 RapCaviar\n",
      "2 Rock This\n",
      "3 mint\n",
      "4 Hot Country\n",
      "5 Viva Latino\n",
      "6 RNB X\n",
      "7 Top 50 - USA\n",
      "8 Top 50 - Global\n",
      "9 Viral 50 - Global\n",
      "10 Viral 50 - USA\n",
      "11 New Music Friday\n"
     ]
    }
   ],
   "source": [
    "# get playlists from list of categories\n",
    "cat = categories['categories']['items'][0]\n",
    "playlists = sp.category_playlists(cat['id'], limit=50)\n",
    "for i, playlist in enumerate(playlists['playlists']['items']):\n",
    "    print(i, playlist['name'])"
   ]
  },
  {
   "cell_type": "code",
   "execution_count": 24,
   "metadata": {},
   "outputs": [
    {
     "data": {
      "text/plain": [
       "['1BxfuPKGuaTgP7aM0Bbdwr',\n",
       " '4xhsWYTOGcal8zt0J161CU',\n",
       " '2IGMVunIBsBLtEQyoI1Mu7',\n",
       " '3rUGC1vUpkDG9CZFHMur1t',\n",
       " '4iZ4pt7kvcaH6Yo8UoZ4s2']"
      ]
     },
     "execution_count": 24,
     "metadata": {},
     "output_type": "execute_result"
    }
   ],
   "source": [
    "# get song ids from list of playlist ids\n",
    "song_ids = []\n",
    "for i, playlist in enumerate(playlists['playlists']['items']):\n",
    "    playlist = sp.playlist(playlist['id'])\n",
    "    for j, item in enumerate(playlist['tracks']['items']):\n",
    "        song = item['track']\n",
    "        song_ids.append(song['id'])\n",
    "        \n",
    "song_ids[:5]"
   ]
  },
  {
   "cell_type": "code",
   "execution_count": 27,
   "metadata": {},
   "outputs": [],
   "source": [
    "# Use song ids to query audio features\n",
    "features = []\n",
    "for i in range(0,len(song_ids),50):\n",
    "    audio_features = sp.audio_features(song_ids[i:i+50])\n",
    "    for track in audio_features:\n",
    "        features.append(track)\n",
    "\n",
    "# Turn the features into a dataframe\n",
    "features_df = pd.DataFrame(features)\n",
    "\n",
    "features_df.head()"
   ]
  }
 ],
 "metadata": {
  "kernelspec": {
   "display_name": "Python 3",
   "language": "python",
   "name": "python3"
  },
  "language_info": {
   "codemirror_mode": {
    "name": "ipython",
    "version": 3
   },
   "file_extension": ".py",
   "mimetype": "text/x-python",
   "name": "python",
   "nbconvert_exporter": "python",
   "pygments_lexer": "ipython3",
   "version": "3.11.0"
  },
  "orig_nbformat": 4
 },
 "nbformat": 4,
 "nbformat_minor": 2
}
