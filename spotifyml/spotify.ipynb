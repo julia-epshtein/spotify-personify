{
 "cells": [
  {
   "cell_type": "code",
   "execution_count": 1,
   "metadata": {},
   "outputs": [],
   "source": [
    "import pandas as pd\n",
    "import numpy as np\n",
    "import random as rnd\n",
    "\n",
    "# Data visualization libraries\n",
    "import matplotlib.pyplot as plt\n",
    "import seaborn as sns\n",
    "\n",
    "# Machine learning libraries\n",
    "from sklearn.model_selection import train_test_split\n",
    "from sklearn import metrics\n",
    "from sklearn.preprocessing import LabelEncoder, StandardScaler, MinMaxScaler, RobustScaler, OneHotEncoder\n",
    "from sklearn.svm import SVC\n",
    "from sklearn.ensemble import RandomForestClassifier\n",
    "from sklearn.model_selection import GridSearchCV\n",
    "from sklearn.neighbors import KNeighborsClassifier\n",
    "\n",
    "# Deep learning libraries\n",
    "import tensorflow as tf\n",
    "from keras.models import Sequential\n",
    "from keras.layers import Dense, Dropout\n",
    "from scikeras.wrappers import KerasClassifier\n",
    "\n",
    "# Spotipy\n",
    "import spotipy\n",
    "from spotipy.oauth2 import SpotifyClientCredentials\n",
    "import spotipy.util as util\n",
    "from spotipy.oauth2 import SpotifyOAuth"
   ]
  },
  {
   "cell_type": "code",
   "execution_count": 3,
   "metadata": {},
   "outputs": [
    {
     "name": "stdout",
     "output_type": "stream",
     "text": [
      "0 King Harvest - Dancing in the Moonlight\n",
      "1 Ashnikko - Daisy\n",
      "2 Ashnikko - Slumber Party (feat. Princess Nokia)\n",
      "3 Cuco - Si Me Voy (with The Marías)\n",
      "4 Hozier - Work Song\n",
      "5 Jordana - Better in the Dark\n",
      "6 MUNA - Silk Chiffon\n",
      "7 WILLIS - I Think I Like When It Rains\n",
      "8 Ethel Cain - Crush\n",
      "9 Taylor Swift - seven\n",
      "10 Lizzy McAlpine - doomsday\n",
      "11 Bon Iver - For Emma\n",
      "12 Emotional Oranges - West Coast Love\n",
      "13 Mitski - Drunk Walk Home\n",
      "14 Kendrick Lamar - XXX. FEAT. U2.\n",
      "15 Mac Miller - Self Care\n",
      "16 Faye Webster - I Know You\n",
      "17 PARTYNEXTDOOR - Belong to the City\n",
      "18 Travis Scott - I KNOW ?\n",
      "19 Nas - Nas Is Like\n"
     ]
    }
   ],
   "source": [
    "# Create App With User Authentication\n",
    "\n",
    "sp = spotipy.Spotify(auth_manager=SpotifyOAuth(client_id=\"d62cb14d245c47668fd50431a942c046\",\n",
    "client_secret=\"fc28483fa9a74b22a90d076120fa3df8\",\n",
    "redirect_uri=\"http://localhost:5000/callback\",\n",
    "scope=\"user-library-read\"))\n",
    "\n",
    "\n",
    "results = sp.current_user_saved_tracks()\n",
    "for idx, item in enumerate(results['items']):\n",
    "    track = item['track']\n",
    "    print(idx, track['artists'][0]['name'], \"-\", track['name'])"
   ]
  }
 ],
 "metadata": {
  "kernelspec": {
   "display_name": "Python 3",
   "language": "python",
   "name": "python3"
  },
  "language_info": {
   "codemirror_mode": {
    "name": "ipython",
    "version": 3
   },
   "file_extension": ".py",
   "mimetype": "text/x-python",
   "name": "python",
   "nbconvert_exporter": "python",
   "pygments_lexer": "ipython3",
   "version": "3.11.0"
  },
  "orig_nbformat": 4
 },
 "nbformat": 4,
 "nbformat_minor": 2
}
